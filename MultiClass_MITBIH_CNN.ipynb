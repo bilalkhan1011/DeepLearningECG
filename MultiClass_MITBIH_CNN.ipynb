{
  "cells": [
    {
      "cell_type": "code",
      "source": [
        "%pip install wfdb numpy pandas matplotlib tensorflow imbalanced-learn"
      ],
      "outputs": [
        {
          "output_type": "stream",
          "name": "stdout",
          "text": "Collecting wfdb\n  Downloading wfdb-4.1.2-py3-none-any.whl (159 kB)\n\u001b[2K     \u001b[90m━━━━━━━━━━━━━━━━━━━━━━━━━━━━━━━━━━━━━━\u001b[0m \u001b[32m160.0/160.0 kB\u001b[0m \u001b[31m10.9 MB/s\u001b[0m eta \u001b[36m0:00:00\u001b[0m\n\u001b[?25hRequirement already satisfied: numpy in /anaconda/envs/azureml_py38_PT_TF/lib/python3.8/site-packages (1.23.5)\nRequirement already satisfied: pandas in /anaconda/envs/azureml_py38_PT_TF/lib/python3.8/site-packages (2.0.2)\nRequirement already satisfied: matplotlib in /anaconda/envs/azureml_py38_PT_TF/lib/python3.8/site-packages (3.7.1)\nRequirement already satisfied: tensorflow in /anaconda/envs/azureml_py38_PT_TF/lib/python3.8/site-packages (2.11.1)\nCollecting imbalanced-learn\n  Downloading imbalanced_learn-0.12.0-py3-none-any.whl (257 kB)\n\u001b[2K     \u001b[90m━━━━━━━━━━━━━━━━━━━━━━━━━━━━━━━━━━━━━━\u001b[0m \u001b[32m257.7/257.7 kB\u001b[0m \u001b[31m24.6 MB/s\u001b[0m eta \u001b[36m0:00:00\u001b[0m\n\u001b[?25hRequirement already satisfied: scipy>=1.0.0 in /anaconda/envs/azureml_py38_PT_TF/lib/python3.8/site-packages (from wfdb) (1.10.1)\nCollecting SoundFile>=0.10.0\n  Downloading soundfile-0.12.1-py2.py3-none-manylinux_2_31_x86_64.whl (1.2 MB)\n\u001b[2K     \u001b[90m━━━━━━━━━━━━━━━━━━━━━━━━━━━━━━━━━━━━━━━━\u001b[0m \u001b[32m1.2/1.2 MB\u001b[0m \u001b[31m58.2 MB/s\u001b[0m eta \u001b[36m0:00:00\u001b[0m\n\u001b[?25hRequirement already satisfied: requests>=2.8.1 in /anaconda/envs/azureml_py38_PT_TF/lib/python3.8/site-packages (from wfdb) (2.31.0)\nRequirement already satisfied: tzdata>=2022.1 in /anaconda/envs/azureml_py38_PT_TF/lib/python3.8/site-packages (from pandas) (2023.3)\nRequirement already satisfied: python-dateutil>=2.8.2 in /anaconda/envs/azureml_py38_PT_TF/lib/python3.8/site-packages (from pandas) (2.8.2)\nRequirement already satisfied: pytz>=2020.1 in /anaconda/envs/azureml_py38_PT_TF/lib/python3.8/site-packages (from pandas) (2023.3)\nRequirement already satisfied: cycler>=0.10 in /anaconda/envs/azureml_py38_PT_TF/lib/python3.8/site-packages (from matplotlib) (0.11.0)\nRequirement already satisfied: pyparsing>=2.3.1 in /anaconda/envs/azureml_py38_PT_TF/lib/python3.8/site-packages (from matplotlib) (3.1.0)\nRequirement already satisfied: importlib-resources>=3.2.0 in /anaconda/envs/azureml_py38_PT_TF/lib/python3.8/site-packages (from matplotlib) (5.12.0)\nRequirement already satisfied: contourpy>=1.0.1 in /anaconda/envs/azureml_py38_PT_TF/lib/python3.8/site-packages (from matplotlib) (1.1.0)\nRequirement already satisfied: pillow>=6.2.0 in /anaconda/envs/azureml_py38_PT_TF/lib/python3.8/site-packages (from matplotlib) (9.5.0)\nRequirement already satisfied: packaging>=20.0 in /anaconda/envs/azureml_py38_PT_TF/lib/python3.8/site-packages (from matplotlib) (23.1)\nRequirement already satisfied: fonttools>=4.22.0 in /anaconda/envs/azureml_py38_PT_TF/lib/python3.8/site-packages (from matplotlib) (4.40.0)\nRequirement already satisfied: kiwisolver>=1.0.1 in /anaconda/envs/azureml_py38_PT_TF/lib/python3.8/site-packages (from matplotlib) (1.4.4)\nRequirement already satisfied: tensorflow-estimator<2.12,>=2.11.0 in /anaconda/envs/azureml_py38_PT_TF/lib/python3.8/site-packages (from tensorflow) (2.11.0)\nRequirement already satisfied: google-pasta>=0.1.1 in /anaconda/envs/azureml_py38_PT_TF/lib/python3.8/site-packages (from tensorflow) (0.2.0)\nRequirement already satisfied: wrapt>=1.11.0 in /anaconda/envs/azureml_py38_PT_TF/lib/python3.8/site-packages (from tensorflow) (1.12.1)\nRequirement already satisfied: absl-py>=1.0.0 in /anaconda/envs/azureml_py38_PT_TF/lib/python3.8/site-packages (from tensorflow) (1.4.0)\nRequirement already satisfied: astunparse>=1.6.0 in /anaconda/envs/azureml_py38_PT_TF/lib/python3.8/site-packages (from tensorflow) (1.6.3)\nRequirement already satisfied: tensorboard<2.12,>=2.11 in /anaconda/envs/azureml_py38_PT_TF/lib/python3.8/site-packages (from tensorflow) (2.11.2)\nRequirement already satisfied: protobuf<3.20,>=3.9.2 in /anaconda/envs/azureml_py38_PT_TF/lib/python3.8/site-packages (from tensorflow) (3.19.6)\nRequirement already satisfied: h5py>=2.9.0 in /anaconda/envs/azureml_py38_PT_TF/lib/python3.8/site-packages (from tensorflow) (3.9.0)\nRequirement already satisfied: termcolor>=1.1.0 in /anaconda/envs/azureml_py38_PT_TF/lib/python3.8/site-packages (from tensorflow) (2.3.0)\nRequirement already satisfied: typing-extensions>=3.6.6 in /anaconda/envs/azureml_py38_PT_TF/lib/python3.8/site-packages (from tensorflow) (4.6.3)\nRequirement already satisfied: gast<=0.4.0,>=0.2.1 in /anaconda/envs/azureml_py38_PT_TF/lib/python3.8/site-packages (from tensorflow) (0.4.0)\nRequirement already satisfied: flatbuffers>=2.0 in /anaconda/envs/azureml_py38_PT_TF/lib/python3.8/site-packages (from tensorflow) (23.5.26)\nRequirement already satisfied: grpcio<2.0,>=1.24.3 in /anaconda/envs/azureml_py38_PT_TF/lib/python3.8/site-packages (from tensorflow) (1.54.2)\nRequirement already satisfied: libclang>=13.0.0 in /anaconda/envs/azureml_py38_PT_TF/lib/python3.8/site-packages (from tensorflow) (16.0.0)\nRequirement already satisfied: keras<2.12,>=2.11.0 in /anaconda/envs/azureml_py38_PT_TF/lib/python3.8/site-packages (from tensorflow) (2.11.0)\nRequirement already satisfied: opt-einsum>=2.3.2 in /anaconda/envs/azureml_py38_PT_TF/lib/python3.8/site-packages (from tensorflow) (3.3.0)\nRequirement already satisfied: tensorflow-io-gcs-filesystem>=0.23.1 in /anaconda/envs/azureml_py38_PT_TF/lib/python3.8/site-packages (from tensorflow) (0.32.0)\nRequirement already satisfied: six>=1.12.0 in /anaconda/envs/azureml_py38_PT_TF/lib/python3.8/site-packages (from tensorflow) (1.16.0)\nRequirement already satisfied: setuptools in /anaconda/envs/azureml_py38_PT_TF/lib/python3.8/site-packages (from tensorflow) (65.6.3)\nRequirement already satisfied: threadpoolctl>=2.0.0 in /anaconda/envs/azureml_py38_PT_TF/lib/python3.8/site-packages (from imbalanced-learn) (3.1.0)\nRequirement already satisfied: joblib>=1.1.1 in /anaconda/envs/azureml_py38_PT_TF/lib/python3.8/site-packages (from imbalanced-learn) (1.2.0)\nRequirement already satisfied: scikit-learn>=1.0.2 in /anaconda/envs/azureml_py38_PT_TF/lib/python3.8/site-packages (from imbalanced-learn) (1.2.2)\nRequirement already satisfied: wheel<1.0,>=0.23.0 in /anaconda/envs/azureml_py38_PT_TF/lib/python3.8/site-packages (from astunparse>=1.6.0->tensorflow) (0.37.1)\nRequirement already satisfied: zipp>=3.1.0 in /anaconda/envs/azureml_py38_PT_TF/lib/python3.8/site-packages (from importlib-resources>=3.2.0->matplotlib) (3.15.0)\nRequirement already satisfied: idna<4,>=2.5 in /anaconda/envs/azureml_py38_PT_TF/lib/python3.8/site-packages (from requests>=2.8.1->wfdb) (3.4)\nRequirement already satisfied: charset-normalizer<4,>=2 in /anaconda/envs/azureml_py38_PT_TF/lib/python3.8/site-packages (from requests>=2.8.1->wfdb) (3.1.0)\nRequirement already satisfied: urllib3<3,>=1.21.1 in /anaconda/envs/azureml_py38_PT_TF/lib/python3.8/site-packages (from requests>=2.8.1->wfdb) (1.26.16)\nRequirement already satisfied: certifi>=2017.4.17 in /anaconda/envs/azureml_py38_PT_TF/lib/python3.8/site-packages (from requests>=2.8.1->wfdb) (2023.5.7)\nRequirement already satisfied: cffi>=1.0 in /anaconda/envs/azureml_py38_PT_TF/lib/python3.8/site-packages (from SoundFile>=0.10.0->wfdb) (1.15.1)\nRequirement already satisfied: tensorboard-data-server<0.7.0,>=0.6.0 in /anaconda/envs/azureml_py38_PT_TF/lib/python3.8/site-packages (from tensorboard<2.12,>=2.11->tensorflow) (0.6.1)\nRequirement already satisfied: markdown>=2.6.8 in /anaconda/envs/azureml_py38_PT_TF/lib/python3.8/site-packages (from tensorboard<2.12,>=2.11->tensorflow) (3.4.3)\nRequirement already satisfied: google-auth-oauthlib<0.5,>=0.4.1 in /anaconda/envs/azureml_py38_PT_TF/lib/python3.8/site-packages (from tensorboard<2.12,>=2.11->tensorflow) (0.4.6)\nRequirement already satisfied: tensorboard-plugin-wit>=1.6.0 in /anaconda/envs/azureml_py38_PT_TF/lib/python3.8/site-packages (from tensorboard<2.12,>=2.11->tensorflow) (1.8.1)\nRequirement already satisfied: werkzeug>=1.0.1 in /anaconda/envs/azureml_py38_PT_TF/lib/python3.8/site-packages (from tensorboard<2.12,>=2.11->tensorflow) (2.3.6)\nRequirement already satisfied: google-auth<3,>=1.6.3 in /anaconda/envs/azureml_py38_PT_TF/lib/python3.8/site-packages (from tensorboard<2.12,>=2.11->tensorflow) (2.20.0)\nRequirement already satisfied: pycparser in /anaconda/envs/azureml_py38_PT_TF/lib/python3.8/site-packages (from cffi>=1.0->SoundFile>=0.10.0->wfdb) (2.21)\nRequirement already satisfied: pyasn1-modules>=0.2.1 in /anaconda/envs/azureml_py38_PT_TF/lib/python3.8/site-packages (from google-auth<3,>=1.6.3->tensorboard<2.12,>=2.11->tensorflow) (0.3.0)\nRequirement already satisfied: rsa<5,>=3.1.4 in /anaconda/envs/azureml_py38_PT_TF/lib/python3.8/site-packages (from google-auth<3,>=1.6.3->tensorboard<2.12,>=2.11->tensorflow) (4.9)\nRequirement already satisfied: cachetools<6.0,>=2.0.0 in /anaconda/envs/azureml_py38_PT_TF/lib/python3.8/site-packages (from google-auth<3,>=1.6.3->tensorboard<2.12,>=2.11->tensorflow) (5.3.1)\nRequirement already satisfied: requests-oauthlib>=0.7.0 in /anaconda/envs/azureml_py38_PT_TF/lib/python3.8/site-packages (from google-auth-oauthlib<0.5,>=0.4.1->tensorboard<2.12,>=2.11->tensorflow) (1.3.1)\nRequirement already satisfied: importlib-metadata>=4.4 in /anaconda/envs/azureml_py38_PT_TF/lib/python3.8/site-packages (from markdown>=2.6.8->tensorboard<2.12,>=2.11->tensorflow) (6.7.0)\nRequirement already satisfied: MarkupSafe>=2.1.1 in /anaconda/envs/azureml_py38_PT_TF/lib/python3.8/site-packages (from werkzeug>=1.0.1->tensorboard<2.12,>=2.11->tensorflow) (2.1.3)\nRequirement already satisfied: pyasn1<0.6.0,>=0.4.6 in /anaconda/envs/azureml_py38_PT_TF/lib/python3.8/site-packages (from pyasn1-modules>=0.2.1->google-auth<3,>=1.6.3->tensorboard<2.12,>=2.11->tensorflow) (0.5.0)\nRequirement already satisfied: oauthlib>=3.0.0 in /anaconda/envs/azureml_py38_PT_TF/lib/python3.8/site-packages (from requests-oauthlib>=0.7.0->google-auth-oauthlib<0.5,>=0.4.1->tensorboard<2.12,>=2.11->tensorflow) (3.2.2)\nInstalling collected packages: SoundFile, wfdb, imbalanced-learn\nSuccessfully installed SoundFile-0.12.1 imbalanced-learn-0.12.0 wfdb-4.1.2\nNote: you may need to restart the kernel to use updated packages.\n"
        }
      ],
      "execution_count": 2,
      "metadata": {
        "colab": {
          "base_uri": "https://localhost:8080/"
        },
        "id": "75bc0884",
        "outputId": "551348f4-db2a-4eb3-a4a9-2bd870ff2108",
        "scrolled": false
      },
      "id": "75bc0884"
    },
    {
      "cell_type": "code",
      "source": [
        "#from google.colab import drive\n",
        "#drive.mount('/content/drive')\n",
        "\n",
        "import os\n",
        "import wfdb\n"
      ],
      "outputs": [],
      "execution_count": 3,
      "metadata": {
        "colab": {
          "base_uri": "https://localhost:8080/"
        },
        "id": "LETyFau-5XdA",
        "outputId": "b9e6e822-3a3b-48d6-a4e9-18d194df112b",
        "gather": {
          "logged": 1707664862124
        }
      },
      "id": "LETyFau-5XdA"
    },
    {
      "cell_type": "code",
      "source": [
        "import os\n",
        "import wfdb\n",
        "import numpy as np\n",
        "import pandas as pd\n",
        "\n",
        "data = './mitdb1'\n",
        "\n",
        "\n",
        "patients = [f.split('.')[0] for f in os.listdir(data) if f.endswith('.hea')]\n",
        "patients = np.sort(patients)\n",
        "labels_df = pd.DataFrame()\n",
        "\n",
        "for pat_id in patients:\n",
        "    file = os.path.join(data, pat_id)\n",
        "    annotation = wfdb.rdann(file, 'atr')\n",
        "\n",
        "    #sym is the annotated symbol read from the file\n",
        "    labels = annotation.symbol\n",
        "\n",
        "    #values is the different symbols in each patient\n",
        "    #counts is the number of each symbol for said patient\n",
        "    vals, cts = np.unique(labels, return_counts=True)\n",
        "\n",
        "    #df_sub is a mini lil dataframe for each individual patient\n",
        "    df_per_pat = pd.DataFrame({'Symbol':vals, 'Counts':cts, 'Patient':[pat_id]*len(cts)})\n",
        "    labels_df = pd.concat([labels_df, df_per_pat],axis = 0)\n",
        "\n",
        "labels_df.groupby('Symbol').Counts.sum().sort_values(ascending = False)"
      ],
      "outputs": [
        {
          "output_type": "execute_result",
          "execution_count": 4,
          "data": {
            "text/plain": "Symbol\nN    75052\nL     8075\nR     7259\nV     7130\n/     7028\nA     2546\n+     1291\nf      982\nF      803\n~      616\n!      472\n\"      437\nj      229\nx      193\na      150\n|      132\nE      106\nJ       83\nQ       33\ne       16\n[        6\n]        6\nS        2\nName: Counts, dtype: int64"
          },
          "metadata": {}
        }
      ],
      "execution_count": 4,
      "metadata": {
        "colab": {
          "base_uri": "https://localhost:8080/"
        },
        "id": "8af333f6",
        "outputId": "8f121245-94a3-4519-989e-8a25fd5fa034",
        "scrolled": false,
        "gather": {
          "logged": 1707664864780
        }
      },
      "id": "8af333f6"
    },
    {
      "cell_type": "code",
      "source": [
        "print(np.unique(labels_df.Symbol))\n",
        "print(len(np.unique(labels_df.Symbol)))"
      ],
      "outputs": [
        {
          "output_type": "stream",
          "name": "stdout",
          "text": "['!' '\"' '+' '/' 'A' 'E' 'F' 'J' 'L' 'N' 'Q' 'R' 'S' 'V' '[' ']' 'a' 'e'\n 'f' 'j' 'x' '|' '~']\n23\n"
        }
      ],
      "execution_count": 5,
      "metadata": {
        "colab": {
          "base_uri": "https://localhost:8080/"
        },
        "id": "kzkeIhVK8qs1",
        "outputId": "16df97ec-96ae-4358-8db0-86c3bb00cc77",
        "gather": {
          "logged": 1707664864844
        }
      },
      "id": "kzkeIhVK8qs1"
    },
    {
      "cell_type": "code",
      "source": [
        "# For first stage, consider N as normal heartbeats, all others are irregular or noise (according to found article).\n",
        "other = ['/','f','j','a']\n",
        "normal = ['N','L','R','e']\n",
        "ventricular = ['V','E']\n",
        "supraventricular = ['S','J','A','a']\n",
        "fusion = ['F']\n",
        "\n",
        "#AAMI_labels = [['N', 'L', 'R', 'e'], ['V', 'E'], ['S', 'J', 'A', 'a'], ['F'], ['/', 'f', 'j', 'a']]\n",
        "#classes = [label for sublist in AAMI_labels for label in sublist]\n",
        "\n",
        "AAMI_labels = [['N', 'L', 'R', 'e'], ['V', 'E'], ['S', 'J', 'A', 'a'], ['F'], ['/', 'f', 'j', 'a']]\n",
        "\n",
        "# Define your classes\n",
        "classes = ['Normal', 'Ventricular', 'Supraventricular', 'Fusion', 'Other']\n",
        "\n",
        "\n"
      ],
      "outputs": [],
      "execution_count": 6,
      "metadata": {
        "id": "6fde478a",
        "gather": {
          "logged": 1707664864936
        }
      },
      "id": "6fde478a"
    },
    {
      "cell_type": "code",
      "source": [
        "def categorize_heartbeat(symbol):\n",
        "\n",
        "    if symbol in normal:\n",
        "        return 0\n",
        "\n",
        "    elif symbol in ventricular:\n",
        "        return 1\n",
        "\n",
        "    elif symbol in supraventricular:\n",
        "        return 2\n",
        "\n",
        "    elif symbol in fusion:\n",
        "        return 3\n",
        "\n",
        "    else:\n",
        "        return 4"
      ],
      "outputs": [],
      "execution_count": 7,
      "metadata": {
        "id": "vOyMHZdf7kxj",
        "gather": {
          "logged": 1707664865042
        }
      },
      "id": "vOyMHZdf7kxj"
    },
    {
      "cell_type": "code",
      "source": [
        "# used to load in the entire ECG dataset,\n",
        "# get the signal and label,\n",
        "# read the symbols and signal\n",
        "\n",
        "def load_ecg(file):\n",
        "\n",
        "    record = wfdb.rdrecord(file)\n",
        "    annotation = wfdb.rdann(file, 'atr')\n",
        "    p_signal = record.p_signal\n",
        "    symbol_ann = annotation.symbol\n",
        "    sample_ann = annotation.sample\n",
        "\n",
        "    return p_signal, symbol_ann, sample_ann"
      ],
      "outputs": [],
      "execution_count": 8,
      "metadata": {
        "id": "ddefbdac",
        "gather": {
          "logged": 1707664865102
        }
      },
      "id": "ddefbdac"
    },
    {
      "cell_type": "code",
      "source": [
        "# creates dataset for model training\n",
        "\n",
        "def make_dataset(patients, seconds, frequency, classes):\n",
        "\n",
        "  #set number of data points\n",
        "  columns = 2 * seconds * frequency\n",
        "  data_X = np.zeros((1,columns))\n",
        "  data_Y = np.zeros((1,len(classes)))\n",
        "  data_Labels = []\n",
        "\n",
        "  rows_per_patient = []\n",
        "\n",
        "  for pat in patients:\n",
        "    file = os.path.join(data, pat)\n",
        "    p_signal, symbol_ann, sample_ann = load_ecg(file)\n",
        "\n",
        "    # only using one lead for simplicity\n",
        "    p_signal = p_signal[:,0]\n",
        "\n",
        "    # make df without the noise symbols\n",
        "    df_data = pd.DataFrame({'symbol_ann':symbol_ann, 'sample_ann':sample_ann})\n",
        "    #df_data = df_data.loc[df_data.symbol_ann.isin(classes)]\n",
        "    df_data['symbol_ann'] = df_data['symbol_ann'].apply(lambda x: next((class_name for class_name, label_list in zip(classes, AAMI_labels) if x in label_list), 'Other'))\n",
        "\n",
        "\n",
        "\n",
        "    rows = len(df_data)\n",
        "    X = np.zeros((rows, columns))\n",
        "    Y = np.zeros((rows,len(classes)))\n",
        "    symbs = []\n",
        "\n",
        "    # keep track of rows\n",
        "    maximum_rows = 0\n",
        "\n",
        "    for sample_ann, symbol_ann in zip(df_data.sample_ann.values,df_data.symbol_ann.values):\n",
        "        left = max([0,(sample_ann - seconds * frequency) ])\n",
        "        right = min([len(p_signal),(sample_ann + seconds * frequency) ])\n",
        "        x = p_signal[left: right]\n",
        "        if len(x) == columns:\n",
        "            X[maximum_rows,:] = x\n",
        "            class_index = classes.index(symbol_ann)\n",
        "            Y[maximum_rows, class_index] = 1\n",
        "            maximum_rows += 1\n",
        "\n",
        "    X = X[:maximum_rows,:]\n",
        "    Y = Y[:maximum_rows,:]\n",
        "\n",
        "    data_Labels += df_data['symbol_ann'].tolist()\n",
        "    data_X = np.append(data_X,X,axis = 0)\n",
        "    data_Y = np.append(data_Y,Y,axis = 0)\n",
        "\n",
        "  data_X = data_X[1:,:]\n",
        "  data_Y = data_Y[1:,:]\n",
        "\n",
        "  return data_X, data_Y, data_Labels"
      ],
      "outputs": [],
      "execution_count": 9,
      "metadata": {
        "id": "e7fbef45",
        "gather": {
          "logged": 1707664865152
        }
      },
      "id": "e7fbef45"
    },
    {
      "cell_type": "code",
      "source": [
        "X_data, Y_data, symbol_data = make_dataset(patients, 3, 360, classes)\n"
      ],
      "outputs": [],
      "execution_count": 10,
      "metadata": {
        "id": "1ebe0026",
        "scrolled": false,
        "gather": {
          "logged": 1707664894693
        }
      },
      "id": "1ebe0026"
    },
    {
      "cell_type": "code",
      "source": [
        "ydffg = pd.DataFrame(Y_data)\n",
        "\n",
        "label_counts = ydffg.iloc[:, 0:].sum()\n",
        "print(label_counts)"
      ],
      "outputs": [
        {
          "output_type": "stream",
          "name": "stdout",
          "text": "0    90098.0\n1     7219.0\n2     2771.0\n3      801.0\n4    11344.0\ndtype: float64\n"
        }
      ],
      "execution_count": 11,
      "metadata": {
        "colab": {
          "base_uri": "https://localhost:8080/"
        },
        "id": "UMPxaEa1xoyk",
        "outputId": "2f46bcd0-fa16-4094-8342-d98ac5e9a4a8",
        "gather": {
          "logged": 1707664894802
        }
      },
      "id": "UMPxaEa1xoyk"
    },
    {
      "cell_type": "code",
      "source": [
        "from sklearn.model_selection import train_test_split\n",
        "\n",
        "\n",
        "\n",
        "X_train, X_valid, y_train, y_valid = train_test_split(X_data, Y_data, test_size=0.3, random_state=42)"
      ],
      "outputs": [],
      "execution_count": 12,
      "metadata": {
        "id": "b25e5f5d",
        "gather": {
          "logged": 1707664900115
        }
      },
      "id": "b25e5f5d"
    },
    {
      "cell_type": "code",
      "source": [
        "from imblearn.over_sampling import SMOTE\n",
        "\n",
        "oversample = SMOTE()\n",
        "X_train_resample, y_train_resample = oversample.fit_resample(X_train, y_train)"
      ],
      "outputs": [],
      "execution_count": 13,
      "metadata": {
        "colab": {
          "base_uri": "https://localhost:8080/",
          "height": 214
        },
        "id": "ND87pRnQp4L2",
        "outputId": "945cdaa7-cc6b-4fcb-9dbc-7ec8352f7408",
        "gather": {
          "logged": 1707664921528
        }
      },
      "id": "ND87pRnQp4L2"
    },
    {
      "cell_type": "code",
      "source": [
        "df4 = pd.DataFrame(X_train_resample)\n",
        "\n",
        "df4"
      ],
      "outputs": [
        {
          "output_type": "execute_result",
          "execution_count": 14,
          "data": {
            "text/plain": "            0         1         2         3         4         5         6     \\\n0      -0.825000 -0.815000 -0.805000 -0.805000 -0.795000 -0.785000 -0.760000   \n1      -0.370000 -0.370000 -0.365000 -0.350000 -0.335000 -0.320000 -0.300000   \n2      -0.225000 -0.220000 -0.215000 -0.220000 -0.235000 -0.270000 -0.270000   \n3      -0.260000 -0.260000 -0.270000 -0.260000 -0.250000 -0.255000 -0.245000   \n4      -0.640000 -0.645000 -0.640000 -0.615000 -0.600000 -0.575000 -0.580000   \n...          ...       ...       ...       ...       ...       ...       ...   \n315020  0.157203  0.142481  0.127760  0.123038  0.143317  0.163038  0.183595   \n315021 -0.231962 -0.208038 -0.188924 -0.176962 -0.173038 -0.173924 -0.181962   \n315022 -0.285249 -0.291013 -0.293894 -0.295421 -0.300421 -0.304657 -0.294486   \n315023 -0.171031 -0.171490 -0.176031 -0.173761 -0.176490 -0.166949 -0.154219   \n315024 -0.184643 -0.191077 -0.190773 -0.184859 -0.184554 -0.202207 -0.211902   \n\n            7         8         9     ...      2150      2151      2152  \\\n0      -0.765000 -0.740000 -0.710000  ... -0.520000 -0.525000 -0.525000   \n1      -0.265000 -0.255000 -0.250000  ... -0.265000 -0.285000 -0.300000   \n2      -0.275000 -0.265000 -0.250000  ... -0.340000 -0.330000 -0.320000   \n3      -0.250000 -0.255000 -0.250000  ... -0.375000 -0.365000 -0.360000   \n4      -0.585000 -0.585000 -0.585000  ... -0.880000 -0.880000 -0.885000   \n...          ...       ...       ...  ...       ...       ...       ...   \n315020  0.199152  0.209152  0.219152  ...  0.171646  0.181089  0.189696   \n315021 -0.166962 -0.151962 -0.141076  ... -0.305886 -0.304809 -0.309809   \n315022 -0.291605 -0.292960 -0.290078  ... -0.015763 -0.005763 -0.005934   \n315023 -0.161949 -0.171949 -0.169678  ... -0.152316 -0.155504 -0.150046   \n315024 -0.229250 -0.213336 -0.212117  ... -0.505305 -0.512652 -0.510305   \n\n            2153      2154      2155      2156      2157      2158      2159  \n0      -0.530000 -0.540000 -0.550000 -0.550000 -0.540000 -0.545000 -0.535000  \n1      -0.300000 -0.295000 -0.270000 -0.255000 -0.255000 -0.250000 -0.230000  \n2      -0.325000 -0.335000 -0.340000 -0.330000 -0.325000 -0.315000 -0.335000  \n3      -0.345000 -0.330000 -0.320000 -0.310000 -0.320000 -0.310000 -0.325000  \n4      -0.880000 -0.880000 -0.875000 -0.870000 -0.870000 -0.880000 -0.895000  \n...          ...       ...       ...       ...       ...       ...       ...  \n315020  0.185810  0.166924  0.138873  0.128317  0.123038  0.133595  0.119709  \n315021 -0.315886 -0.316962 -0.306962 -0.292848 -0.290886 -0.299809 -0.303733  \n315022 -0.001698  0.004066  0.006184  0.012710  0.025592  0.045000  0.057882  \n315023 -0.137775 -0.123234 -0.131422 -0.139610 -0.139151 -0.134151 -0.124151  \n315024 -0.512348 -0.504695 -0.502043 -0.500825 -0.487563 -0.476649 -0.469606  \n\n[315025 rows x 2160 columns]",
            "text/html": "<div>\n<style scoped>\n    .dataframe tbody tr th:only-of-type {\n        vertical-align: middle;\n    }\n\n    .dataframe tbody tr th {\n        vertical-align: top;\n    }\n\n    .dataframe thead th {\n        text-align: right;\n    }\n</style>\n<table border=\"1\" class=\"dataframe\">\n  <thead>\n    <tr style=\"text-align: right;\">\n      <th></th>\n      <th>0</th>\n      <th>1</th>\n      <th>2</th>\n      <th>3</th>\n      <th>4</th>\n      <th>5</th>\n      <th>6</th>\n      <th>7</th>\n      <th>8</th>\n      <th>9</th>\n      <th>...</th>\n      <th>2150</th>\n      <th>2151</th>\n      <th>2152</th>\n      <th>2153</th>\n      <th>2154</th>\n      <th>2155</th>\n      <th>2156</th>\n      <th>2157</th>\n      <th>2158</th>\n      <th>2159</th>\n    </tr>\n  </thead>\n  <tbody>\n    <tr>\n      <th>0</th>\n      <td>-0.825000</td>\n      <td>-0.815000</td>\n      <td>-0.805000</td>\n      <td>-0.805000</td>\n      <td>-0.795000</td>\n      <td>-0.785000</td>\n      <td>-0.760000</td>\n      <td>-0.765000</td>\n      <td>-0.740000</td>\n      <td>-0.710000</td>\n      <td>...</td>\n      <td>-0.520000</td>\n      <td>-0.525000</td>\n      <td>-0.525000</td>\n      <td>-0.530000</td>\n      <td>-0.540000</td>\n      <td>-0.550000</td>\n      <td>-0.550000</td>\n      <td>-0.540000</td>\n      <td>-0.545000</td>\n      <td>-0.535000</td>\n    </tr>\n    <tr>\n      <th>1</th>\n      <td>-0.370000</td>\n      <td>-0.370000</td>\n      <td>-0.365000</td>\n      <td>-0.350000</td>\n      <td>-0.335000</td>\n      <td>-0.320000</td>\n      <td>-0.300000</td>\n      <td>-0.265000</td>\n      <td>-0.255000</td>\n      <td>-0.250000</td>\n      <td>...</td>\n      <td>-0.265000</td>\n      <td>-0.285000</td>\n      <td>-0.300000</td>\n      <td>-0.300000</td>\n      <td>-0.295000</td>\n      <td>-0.270000</td>\n      <td>-0.255000</td>\n      <td>-0.255000</td>\n      <td>-0.250000</td>\n      <td>-0.230000</td>\n    </tr>\n    <tr>\n      <th>2</th>\n      <td>-0.225000</td>\n      <td>-0.220000</td>\n      <td>-0.215000</td>\n      <td>-0.220000</td>\n      <td>-0.235000</td>\n      <td>-0.270000</td>\n      <td>-0.270000</td>\n      <td>-0.275000</td>\n      <td>-0.265000</td>\n      <td>-0.250000</td>\n      <td>...</td>\n      <td>-0.340000</td>\n      <td>-0.330000</td>\n      <td>-0.320000</td>\n      <td>-0.325000</td>\n      <td>-0.335000</td>\n      <td>-0.340000</td>\n      <td>-0.330000</td>\n      <td>-0.325000</td>\n      <td>-0.315000</td>\n      <td>-0.335000</td>\n    </tr>\n    <tr>\n      <th>3</th>\n      <td>-0.260000</td>\n      <td>-0.260000</td>\n      <td>-0.270000</td>\n      <td>-0.260000</td>\n      <td>-0.250000</td>\n      <td>-0.255000</td>\n      <td>-0.245000</td>\n      <td>-0.250000</td>\n      <td>-0.255000</td>\n      <td>-0.250000</td>\n      <td>...</td>\n      <td>-0.375000</td>\n      <td>-0.365000</td>\n      <td>-0.360000</td>\n      <td>-0.345000</td>\n      <td>-0.330000</td>\n      <td>-0.320000</td>\n      <td>-0.310000</td>\n      <td>-0.320000</td>\n      <td>-0.310000</td>\n      <td>-0.325000</td>\n    </tr>\n    <tr>\n      <th>4</th>\n      <td>-0.640000</td>\n      <td>-0.645000</td>\n      <td>-0.640000</td>\n      <td>-0.615000</td>\n      <td>-0.600000</td>\n      <td>-0.575000</td>\n      <td>-0.580000</td>\n      <td>-0.585000</td>\n      <td>-0.585000</td>\n      <td>-0.585000</td>\n      <td>...</td>\n      <td>-0.880000</td>\n      <td>-0.880000</td>\n      <td>-0.885000</td>\n      <td>-0.880000</td>\n      <td>-0.880000</td>\n      <td>-0.875000</td>\n      <td>-0.870000</td>\n      <td>-0.870000</td>\n      <td>-0.880000</td>\n      <td>-0.895000</td>\n    </tr>\n    <tr>\n      <th>...</th>\n      <td>...</td>\n      <td>...</td>\n      <td>...</td>\n      <td>...</td>\n      <td>...</td>\n      <td>...</td>\n      <td>...</td>\n      <td>...</td>\n      <td>...</td>\n      <td>...</td>\n      <td>...</td>\n      <td>...</td>\n      <td>...</td>\n      <td>...</td>\n      <td>...</td>\n      <td>...</td>\n      <td>...</td>\n      <td>...</td>\n      <td>...</td>\n      <td>...</td>\n      <td>...</td>\n    </tr>\n    <tr>\n      <th>315020</th>\n      <td>0.157203</td>\n      <td>0.142481</td>\n      <td>0.127760</td>\n      <td>0.123038</td>\n      <td>0.143317</td>\n      <td>0.163038</td>\n      <td>0.183595</td>\n      <td>0.199152</td>\n      <td>0.209152</td>\n      <td>0.219152</td>\n      <td>...</td>\n      <td>0.171646</td>\n      <td>0.181089</td>\n      <td>0.189696</td>\n      <td>0.185810</td>\n      <td>0.166924</td>\n      <td>0.138873</td>\n      <td>0.128317</td>\n      <td>0.123038</td>\n      <td>0.133595</td>\n      <td>0.119709</td>\n    </tr>\n    <tr>\n      <th>315021</th>\n      <td>-0.231962</td>\n      <td>-0.208038</td>\n      <td>-0.188924</td>\n      <td>-0.176962</td>\n      <td>-0.173038</td>\n      <td>-0.173924</td>\n      <td>-0.181962</td>\n      <td>-0.166962</td>\n      <td>-0.151962</td>\n      <td>-0.141076</td>\n      <td>...</td>\n      <td>-0.305886</td>\n      <td>-0.304809</td>\n      <td>-0.309809</td>\n      <td>-0.315886</td>\n      <td>-0.316962</td>\n      <td>-0.306962</td>\n      <td>-0.292848</td>\n      <td>-0.290886</td>\n      <td>-0.299809</td>\n      <td>-0.303733</td>\n    </tr>\n    <tr>\n      <th>315022</th>\n      <td>-0.285249</td>\n      <td>-0.291013</td>\n      <td>-0.293894</td>\n      <td>-0.295421</td>\n      <td>-0.300421</td>\n      <td>-0.304657</td>\n      <td>-0.294486</td>\n      <td>-0.291605</td>\n      <td>-0.292960</td>\n      <td>-0.290078</td>\n      <td>...</td>\n      <td>-0.015763</td>\n      <td>-0.005763</td>\n      <td>-0.005934</td>\n      <td>-0.001698</td>\n      <td>0.004066</td>\n      <td>0.006184</td>\n      <td>0.012710</td>\n      <td>0.025592</td>\n      <td>0.045000</td>\n      <td>0.057882</td>\n    </tr>\n    <tr>\n      <th>315023</th>\n      <td>-0.171031</td>\n      <td>-0.171490</td>\n      <td>-0.176031</td>\n      <td>-0.173761</td>\n      <td>-0.176490</td>\n      <td>-0.166949</td>\n      <td>-0.154219</td>\n      <td>-0.161949</td>\n      <td>-0.171949</td>\n      <td>-0.169678</td>\n      <td>...</td>\n      <td>-0.152316</td>\n      <td>-0.155504</td>\n      <td>-0.150046</td>\n      <td>-0.137775</td>\n      <td>-0.123234</td>\n      <td>-0.131422</td>\n      <td>-0.139610</td>\n      <td>-0.139151</td>\n      <td>-0.134151</td>\n      <td>-0.124151</td>\n    </tr>\n    <tr>\n      <th>315024</th>\n      <td>-0.184643</td>\n      <td>-0.191077</td>\n      <td>-0.190773</td>\n      <td>-0.184859</td>\n      <td>-0.184554</td>\n      <td>-0.202207</td>\n      <td>-0.211902</td>\n      <td>-0.229250</td>\n      <td>-0.213336</td>\n      <td>-0.212117</td>\n      <td>...</td>\n      <td>-0.505305</td>\n      <td>-0.512652</td>\n      <td>-0.510305</td>\n      <td>-0.512348</td>\n      <td>-0.504695</td>\n      <td>-0.502043</td>\n      <td>-0.500825</td>\n      <td>-0.487563</td>\n      <td>-0.476649</td>\n      <td>-0.469606</td>\n    </tr>\n  </tbody>\n</table>\n<p>315025 rows × 2160 columns</p>\n</div>"
          },
          "metadata": {}
        }
      ],
      "execution_count": 14,
      "metadata": {
        "colab": {
          "base_uri": "https://localhost:8080/",
          "height": 444
        },
        "id": "1d22a45c",
        "outputId": "1b9e199b-e8f0-4e00-f28b-d6798de8c3c4",
        "gather": {
          "logged": 1707664924503
        }
      },
      "id": "1d22a45c"
    },
    {
      "cell_type": "code",
      "source": [
        "print(X_train_resample.shape)\n",
        "print(y_train_resample.shape)\n",
        "print(X_valid.shape)\n",
        "print(y_valid.shape)\n",
        "print(X_data.shape)"
      ],
      "outputs": [
        {
          "output_type": "stream",
          "name": "stdout",
          "text": "(315025, 2160)\n(315025, 5)\n(33670, 2160)\n(33670, 5)\n(112233, 2160)\n"
        }
      ],
      "execution_count": 15,
      "metadata": {
        "colab": {
          "base_uri": "https://localhost:8080/"
        },
        "id": "f01ed509",
        "outputId": "409d6ba2-f141-446d-f215-8134732d5b74",
        "gather": {
          "logged": 1707664924570
        }
      },
      "id": "f01ed509"
    },
    {
      "cell_type": "code",
      "source": [
        "ydffgtr = pd.DataFrame(y_train_resample)\n",
        "\n",
        "label_counts = ydffgtr.iloc[:, 0:].sum()\n",
        "print(label_counts)"
      ],
      "outputs": [
        {
          "output_type": "stream",
          "name": "stdout",
          "text": "0    63005\n1    63005\n2    63005\n3    63005\n4    63005\ndtype: int64\n"
        }
      ],
      "execution_count": 16,
      "metadata": {
        "jupyter": {
          "source_hidden": false,
          "outputs_hidden": false
        },
        "nteract": {
          "transient": {
            "deleting": false
          }
        },
        "gather": {
          "logged": 1707664924625
        }
      },
      "id": "6a02220c-48cc-4059-b4be-88a0db2818f1"
    },
    {
      "cell_type": "code",
      "source": [
        "X_train_cnn = np.reshape(X_train_resample, (X_train_resample.shape[0], X_train_resample.shape[1], 1))\n",
        "X_valid_cnn = np.reshape(X_valid, (X_valid.shape[0], X_valid.shape[1], 1))\n",
        "\n",
        "print(X_train_cnn.shape)"
      ],
      "outputs": [
        {
          "output_type": "stream",
          "name": "stdout",
          "text": "(315025, 2160, 1)\n"
        }
      ],
      "execution_count": 17,
      "metadata": {
        "id": "vo051BV19PJ6",
        "gather": {
          "logged": 1707664980707
        }
      },
      "id": "vo051BV19PJ6"
    },
    {
      "cell_type": "code",
      "source": [
        "import tensorflow as tf\n",
        "from tensorflow.keras import layers, models\n",
        "\n",
        "\n",
        "model = models.Sequential()\n",
        "model.add(layers.Conv1D(64, 3, activation='relu', input_shape=(2160,1)))\n",
        "model.add(layers.MaxPooling1D(2))\n",
        "model.add(layers.Conv1D(128, 3, activation='relu'))\n",
        "model.add(layers.MaxPooling1D(2))\n",
        "model.add(layers.Flatten())\n",
        "model.add(layers.Dense(128, activation='relu'))\n",
        "model.add(layers.Dense(len(classes), activation='softmax'))  # softmax for multiclass classification\n",
        "\n",
        "# Compile the model\n",
        "model.compile(optimizer='adam', loss='categorical_crossentropy', metrics=['accuracy'])\n",
        "\n",
        "# Train the model\n",
        "model.fit(X_train_cnn, y_train_resample, epochs=2, validation_data=(X_valid_cnn, y_valid))\n",
        "\n",
        "# Evaluate the model on the test set\n",
        "test_loss, test_accuracy = model.evaluate(X_valid_cnn, y_valid)\n",
        "print(f\"Test Accuracy: {test_accuracy}\")"
      ],
      "outputs": [
        {
          "output_type": "stream",
          "name": "stderr",
          "text": "2024-02-11 14:40:50.381953: I tensorflow/core/platform/cpu_feature_guard.cc:193] This TensorFlow binary is optimized with oneAPI Deep Neural Network Library (oneDNN) to use the following CPU instructions in performance-critical operations:  AVX2 AVX512F AVX512_VNNI FMA\nTo enable them in other operations, rebuild TensorFlow with the appropriate compiler flags.\n2024-02-11 14:40:52.635914: I tensorflow/core/util/port.cc:104] oneDNN custom operations are on. You may see slightly different numerical results due to floating-point round-off errors from different computation orders. To turn them off, set the environment variable `TF_ENABLE_ONEDNN_OPTS=0`.\n2024-02-11 14:40:53.292081: W tensorflow/compiler/xla/stream_executor/platform/default/dso_loader.cc:64] Could not load dynamic library 'libcudart.so.11.0'; dlerror: libcudart.so.11.0: cannot open shared object file: No such file or directory\n2024-02-11 14:40:53.292112: I tensorflow/compiler/xla/stream_executor/cuda/cudart_stub.cc:29] Ignore above cudart dlerror if you do not have a GPU set up on your machine.\n2024-02-11 14:40:59.048150: W tensorflow/compiler/xla/stream_executor/platform/default/dso_loader.cc:64] Could not load dynamic library 'libnvinfer.so.7'; dlerror: libnvinfer.so.7: cannot open shared object file: No such file or directory\n2024-02-11 14:40:59.048408: W tensorflow/compiler/xla/stream_executor/platform/default/dso_loader.cc:64] Could not load dynamic library 'libnvinfer_plugin.so.7'; dlerror: libnvinfer_plugin.so.7: cannot open shared object file: No such file or directory\n2024-02-11 14:40:59.048420: W tensorflow/compiler/tf2tensorrt/utils/py_utils.cc:38] TF-TRT Warning: Cannot dlopen some TensorRT libraries. If you would like to use Nvidia GPU with TensorRT, please make sure the missing libraries mentioned above are installed properly.\n2024-02-11 14:41:12.177380: E tensorflow/compiler/xla/stream_executor/cuda/cuda_driver.cc:267] failed call to cuInit: CUDA_ERROR_NO_DEVICE: no CUDA-capable device is detected\n2024-02-11 14:41:12.177436: I tensorflow/compiler/xla/stream_executor/cuda/cuda_diagnostics.cc:156] kernel driver does not appear to be running on this host (ed18b5k1): /proc/driver/nvidia/version does not exist\n2024-02-11 14:41:12.185507: I tensorflow/core/platform/cpu_feature_guard.cc:193] This TensorFlow binary is optimized with oneAPI Deep Neural Network Library (oneDNN) to use the following CPU instructions in performance-critical operations:  AVX2 AVX512F AVX512_VNNI FMA\nTo enable them in other operations, rebuild TensorFlow with the appropriate compiler flags.\n"
        },
        {
          "output_type": "stream",
          "name": "stdout",
          "text": "Epoch 1/2\n9845/9845 [==============================] - 952s 97ms/step - loss: 0.0591 - accuracy: 0.9812 - val_loss: 0.1153 - val_accuracy: 0.9778\b\b\b\b\b\b\b\b\b\b\b\b\b\b\b\b\b\b\b\b\b\b\b\b\b\b\b\b\b\b\b\b\b\b\b\b\b\b\b\b\b\b\b\b\b\b\b\nEpoch 2/2\n9845/9845 [==============================] - 949s 96ms/step - loss: 0.0100 - accuracy: 0.9970 - val_loss: 0.1477 - val_accuracy: 0.9767\b\b\b\b\b\b\b\b\b\b\b\b\b\b\b\b\b\b\b\b\b\b\b\b\b\b\b\b\b\b\b\b\b\b\b\b\b\b\b\b\b\b\b\b\b\b\b\b\b\b\b\n1053/1053 [==============================] - 23s 22ms/step - loss: 0.1477 - accuracy: 0.9767\b\b\b\b\b\b\b\b\b\b\b\b\b\b\b\b\b\b\b\b\b\b\b\b\b\b\b\b\b\b\b\b\b\b\b\b\b\b\b\b\b\b\b\b\b\b\b\b\b\b\b\b\b\b\b\b\b\b\b\b\b\b\b\b\b\b\b\b\b\b\b\b\b\b\b\b\b\b\b\b\b\b\nTest Accuracy: 0.9766854643821716\n"
        }
      ],
      "execution_count": 22,
      "metadata": {
        "colab": {
          "base_uri": "https://localhost:8080/"
        },
        "id": "085d7ea3",
        "outputId": "e462583f-c2ce-4f8f-bf50-49b0b088b533",
        "gather": {
          "logged": 1707664442072
        }
      },
      "id": "085d7ea3"
    },
    {
      "cell_type": "code",
      "source": [
        "%pip install seaborn"
      ],
      "outputs": [
        {
          "output_type": "stream",
          "name": "stdout",
          "text": "Collecting seaborn\n  Downloading seaborn-0.13.2-py3-none-any.whl (294 kB)\n\u001b[2K     \u001b[90m━━━━━━━━━━━━━━━━━━━━━━━━━━━━━━━━━━━━━━\u001b[0m \u001b[32m294.9/294.9 kB\u001b[0m \u001b[31m21.8 MB/s\u001b[0m eta \u001b[36m0:00:00\u001b[0m\n\u001b[?25hRequirement already satisfied: numpy!=1.24.0,>=1.20 in /anaconda/envs/azureml_py38_PT_TF/lib/python3.8/site-packages (from seaborn) (1.23.5)\nRequirement already satisfied: matplotlib!=3.6.1,>=3.4 in /anaconda/envs/azureml_py38_PT_TF/lib/python3.8/site-packages (from seaborn) (3.7.1)\nRequirement already satisfied: pandas>=1.2 in /anaconda/envs/azureml_py38_PT_TF/lib/python3.8/site-packages (from seaborn) (2.0.2)\nRequirement already satisfied: importlib-resources>=3.2.0 in /anaconda/envs/azureml_py38_PT_TF/lib/python3.8/site-packages (from matplotlib!=3.6.1,>=3.4->seaborn) (5.12.0)\nRequirement already satisfied: pyparsing>=2.3.1 in /anaconda/envs/azureml_py38_PT_TF/lib/python3.8/site-packages (from matplotlib!=3.6.1,>=3.4->seaborn) (3.1.0)\nRequirement already satisfied: cycler>=0.10 in /anaconda/envs/azureml_py38_PT_TF/lib/python3.8/site-packages (from matplotlib!=3.6.1,>=3.4->seaborn) (0.11.0)\nRequirement already satisfied: kiwisolver>=1.0.1 in /anaconda/envs/azureml_py38_PT_TF/lib/python3.8/site-packages (from matplotlib!=3.6.1,>=3.4->seaborn) (1.4.4)\nRequirement already satisfied: packaging>=20.0 in /anaconda/envs/azureml_py38_PT_TF/lib/python3.8/site-packages (from matplotlib!=3.6.1,>=3.4->seaborn) (23.1)\nRequirement already satisfied: fonttools>=4.22.0 in /anaconda/envs/azureml_py38_PT_TF/lib/python3.8/site-packages (from matplotlib!=3.6.1,>=3.4->seaborn) (4.40.0)\nRequirement already satisfied: contourpy>=1.0.1 in /anaconda/envs/azureml_py38_PT_TF/lib/python3.8/site-packages (from matplotlib!=3.6.1,>=3.4->seaborn) (1.1.0)\nRequirement already satisfied: python-dateutil>=2.7 in /anaconda/envs/azureml_py38_PT_TF/lib/python3.8/site-packages (from matplotlib!=3.6.1,>=3.4->seaborn) (2.8.2)\nRequirement already satisfied: pillow>=6.2.0 in /anaconda/envs/azureml_py38_PT_TF/lib/python3.8/site-packages (from matplotlib!=3.6.1,>=3.4->seaborn) (9.5.0)\nRequirement already satisfied: pytz>=2020.1 in /anaconda/envs/azureml_py38_PT_TF/lib/python3.8/site-packages (from pandas>=1.2->seaborn) (2023.3)\nRequirement already satisfied: tzdata>=2022.1 in /anaconda/envs/azureml_py38_PT_TF/lib/python3.8/site-packages (from pandas>=1.2->seaborn) (2023.3)\nRequirement already satisfied: zipp>=3.1.0 in /anaconda/envs/azureml_py38_PT_TF/lib/python3.8/site-packages (from importlib-resources>=3.2.0->matplotlib!=3.6.1,>=3.4->seaborn) (3.15.0)\nRequirement already satisfied: six>=1.5 in /anaconda/envs/azureml_py38_PT_TF/lib/python3.8/site-packages (from python-dateutil>=2.7->matplotlib!=3.6.1,>=3.4->seaborn) (1.16.0)\nInstalling collected packages: seaborn\nSuccessfully installed seaborn-0.13.2\nNote: you may need to restart the kernel to use updated packages.\n"
        }
      ],
      "execution_count": 24,
      "metadata": {
        "id": "cJTE1zX6RWnt"
      },
      "id": "cJTE1zX6RWnt"
    },
    {
      "cell_type": "code",
      "source": [
        "from sklearn.metrics import confusion_matrix\n",
        "import seaborn as sns\n",
        "import matplotlib.pyplot as plt\n",
        "\n",
        "y_pred = model.predict(X_valid_cnn)\n",
        "y_pred_classes = np.argmax(y_pred, axis=1)\n",
        "\n",
        "# Convert y_valid from one-hot encoded to class labels\n",
        "y_valid_classes = np.argmax(y_valid, axis=1)\n",
        "\n",
        "# Compute confusion matrix\n",
        "conf_matrix = confusion_matrix(y_valid_classes, y_pred_classes)\n",
        "\n",
        "# Visualize the confusion matrix using a heatmap\n",
        "plt.figure(figsize=(8, 6))\n",
        "sns.heatmap(conf_matrix, annot=True, fmt='d', cmap='Blues', cbar=True,\n",
        "            xticklabels=classes,  # Replace with your class labels\n",
        "            yticklabels=classes)  # Replace with your class labels\n",
        "plt.xlabel('Predicted Labels')\n",
        "plt.ylabel('True Labels')\n",
        "plt.title('Confusion Matrix')\n",
        "plt.show()\n"
      ],
      "outputs": [
        {
          "output_type": "stream",
          "name": "stdout",
          "text": "1053/1053 [==============================] - 23s 22ms/step\b\b\b\b\b\b\b\b\b\b\b\b\b\b\b\b\b\b\b\b\b\b\b\b\b\b\b\b\b\b\b\b\b\b\b\b\b\b\b\b\b\b\b\b\b\b\b\b\b\b\n"
        },
        {
          "output_type": "display_data",
          "data": {
            "text/plain": "<Figure size 800x600 with 2 Axes>",
            "image/png": "[encoded data removed]"
          },
          "metadata": {}
        }
      ],
      "execution_count": 25,
      "metadata": {
        "colab": {
          "base_uri": "https://localhost:8080/",
          "height": 582
        },
        "id": "pdWAzW2HaPN4",
        "outputId": "67a5f071-58ac-4fcd-b01f-bdb427202844",
        "gather": {
          "logged": 1707664525805
        }
      },
      "id": "pdWAzW2HaPN4"
    },
    {
      "cell_type": "code",
      "source": [
        "from sklearn.metrics import classification_report\n"
      ],
      "outputs": [
        {
          "output_type": "error",
          "ename": "ModuleNotFoundError",
          "evalue": "No module named 'sklearn'",
          "traceback": [
            "\u001b[0;31m---------------------------------------------------------------------------\u001b[0m",
            "\u001b[0;31mModuleNotFoundError\u001b[0m                       Traceback (most recent call last)",
            "Cell \u001b[0;32mIn[1], line 1\u001b[0m\n\u001b[0;32m----> 1\u001b[0m \u001b[38;5;28;01mfrom\u001b[39;00m \u001b[38;5;21;01msklearn\u001b[39;00m\u001b[38;5;21;01m.\u001b[39;00m\u001b[38;5;21;01mmetrics\u001b[39;00m \u001b[38;5;28;01mimport\u001b[39;00m classification_report\n",
            "\u001b[0;31mModuleNotFoundError\u001b[0m: No module named 'sklearn'"
          ]
        }
      ],
      "execution_count": 1,
      "metadata": {
        "colab": {
          "base_uri": "https://localhost:8080/",
          "height": 381
        },
        "id": "21d58ced",
        "outputId": "4d2d9de1-c2e0-4bb8-faa8-fccea720ceaa",
        "gather": {
          "logged": 1707661245324
        }
      },
      "id": "21d58ced"
    }
  ],
  "metadata": {
    "colab": {
      "provenance": []
    },
    "kernelspec": {
      "name": "python38-azureml-pt-tf",
      "language": "python",
      "display_name": "Python 3.8 - Pytorch and Tensorflow"
    },
    "language_info": {
      "name": "python",
      "version": "3.8.5",
      "mimetype": "text/x-python",
      "codemirror_mode": {
        "name": "ipython",
        "version": 3
      },
      "pygments_lexer": "ipython3",
      "nbconvert_exporter": "python",
      "file_extension": ".py"
    },
    "microsoft": {
      "ms_spell_check": {
        "ms_spell_check_language": "en"
      },
      "host": {
        "AzureML": {
          "notebookHasBeenCompleted": true
        }
      }
    },
    "kernel_info": {
      "name": "python38-azureml-pt-tf"
    },
    "nteract": {
      "version": "nteract-front-end@1.0.0"
    }
  },
  "nbformat": 4,
  "nbformat_minor": 5
}